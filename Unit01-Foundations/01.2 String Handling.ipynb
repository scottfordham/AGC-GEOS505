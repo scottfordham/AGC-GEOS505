{
 "cells": [
  {
   "cell_type": "markdown",
   "id": "f660ea36",
   "metadata": {},
   "source": [
    "# 01.2 Data Types and String Handling\n",
    "\n",
    "### Understanding Data Types\n",
    "\n",
    "An important, but these days often overlooked, aspect of learning a new scientific programming language is how that languages treat different data types. A data type is an attribute that specifies values that a variable can take and ultimately the operations that can be performed on that variable. Generally speaking, data types include integers, floating point numbers, and character strings. In Python, we declare a variable simply using a statement like:\n",
    "\n",
    "`x = 24`\n",
    "\n",
    "This statement effectively instructs Python to create a variable we will refer to as `x` equal to a numerical value of 24. Note that we haven't specified it's data type. This contrasts to languages like C, in which we would define a variable using something like the following:\n",
    "\n",
    "`int x = 24;`\n",
    "\n",
    "So, then how does Python figure out what the data type is? Let's explore:"
   ]
  },
  {
   "cell_type": "code",
   "execution_count": null,
   "id": "07ee7f87",
   "metadata": {},
   "outputs": [],
   "source": [
    "x = 24 # This is an integer\n",
    "y = 48 # This is an integer\n",
    "z = 4.2 # This is a double precision floating point\n",
    "\n",
    "char = 'Cappucina Ballerina' # This is a character string\n"
   ]
  },
  {
   "cell_type": "markdown",
   "id": "d23eb209",
   "metadata": {},
   "source": [
    "We can use the `type()` function to query what the data type of each of these defined variables is:"
   ]
  },
  {
   "cell_type": "code",
   "execution_count": null,
   "id": "0dad7185",
   "metadata": {},
   "outputs": [],
   "source": [
    "type(x)"
   ]
  },
  {
   "cell_type": "code",
   "execution_count": null,
   "id": "0389b3af",
   "metadata": {},
   "outputs": [],
   "source": [
    "type(y)"
   ]
  },
  {
   "cell_type": "code",
   "execution_count": null,
   "id": "bf06863f",
   "metadata": {},
   "outputs": [],
   "source": [
    "type(z)"
   ]
  },
  {
   "cell_type": "code",
   "execution_count": null,
   "id": "60a7d0f5",
   "metadata": {},
   "outputs": [],
   "source": [
    "type(char)"
   ]
  },
  {
   "cell_type": "markdown",
   "id": "0f3401da",
   "metadata": {},
   "source": [
    "Often times, we want to do perform mathematical or other operations on variables. As mentioned above, the data type influences what operations we can and cannot do with our variables. Let's start by adding `x` and `y`:"
   ]
  },
  {
   "cell_type": "code",
   "execution_count": null,
   "id": "2a1ed290",
   "metadata": {},
   "outputs": [],
   "source": [
    "x + y"
   ]
  },
  {
   "cell_type": "markdown",
   "id": "d91f2cb1",
   "metadata": {},
   "source": [
    "Now let's examine the data type that was returned by this operation"
   ]
  },
  {
   "cell_type": "code",
   "execution_count": null,
   "id": "5b60977a",
   "metadata": {},
   "outputs": [],
   "source": [
    "type(x+y)"
   ]
  },
  {
   "cell_type": "markdown",
   "id": "9d9fa279",
   "metadata": {},
   "source": [
    "So far, so good. Now what happens when we add two variables that have different types:"
   ]
  },
  {
   "cell_type": "code",
   "execution_count": null,
   "id": "6ce94492",
   "metadata": {},
   "outputs": [],
   "source": [
    "x+z"
   ]
  },
  {
   "cell_type": "code",
   "execution_count": null,
   "id": "7a6c410a",
   "metadata": {},
   "outputs": [],
   "source": [
    "type(x+z)"
   ]
  },
  {
   "cell_type": "markdown",
   "id": "0b966cef",
   "metadata": {},
   "source": [
    "Wait, what? Note that in many languages (C, Fortran), this would throw an error. Instead, Python has inferred the most appropriate type based on the operation. We added an integer to a float and got a float. Addition seems straightforward, but what about division?"
   ]
  },
  {
   "cell_type": "code",
   "execution_count": null,
   "id": "7983b2c6",
   "metadata": {},
   "outputs": [],
   "source": [
    "x/y"
   ]
  },
  {
   "cell_type": "markdown",
   "id": "3852c7a3",
   "metadata": {},
   "source": [
    "Ok, the answer is _numerically_ correct, but what data type did Python return? "
   ]
  },
  {
   "cell_type": "code",
   "execution_count": null,
   "id": "0e082de0",
   "metadata": {},
   "outputs": [],
   "source": [
    "type(x/y)"
   ]
  },
  {
   "cell_type": "markdown",
   "id": "8aa357c8",
   "metadata": {},
   "source": [
    "Huh? Again, in languages like C and Fortran, this would throw an error. Again, Python examined what we were trying to do, and implicitly \"cast\" `x` as a double before performing the operation. The resulting quotient is then a float. \n",
    "\n",
    "Let's try something... what if we defined `xfloat` = 24.0 (a floating point number by definition) and then compare it to `x`:"
   ]
  },
  {
   "cell_type": "code",
   "execution_count": null,
   "id": "d6315552",
   "metadata": {},
   "outputs": [],
   "source": [
    "xfloat = 24.0\n",
    "\n",
    "(x==xfloat)"
   ]
  },
  {
   "cell_type": "markdown",
   "id": "c94775a8",
   "metadata": {},
   "source": [
    "Hmmmm... curious. Can you think of any potential issues with this? What if `xfloat = 24 + 1E-12`?\n",
    "\n",
    "So far, Python has let us play pretty fast and loose with data types, effectively guessing what we're trying to do and then adjusting \"on the fly.\" Let's illustrate one way that the data type *does*, in fact matter:"
   ]
  },
  {
   "cell_type": "code",
   "execution_count": null,
   "id": "edf39b15",
   "metadata": {},
   "outputs": [],
   "source": [
    "for i in range(x):\n",
    "    print(i)"
   ]
  },
  {
   "cell_type": "code",
   "execution_count": null,
   "id": "70e4a9cb",
   "metadata": {},
   "outputs": [],
   "source": [
    "for i in range(xfloat):\n",
    "    print(i)\n",
    "    "
   ]
  },
  {
   "cell_type": "markdown",
   "id": "7211d0aa",
   "metadata": {},
   "source": [
    "Why is this? Think about the mathematical concept of a whole number.\n",
    "\n",
    "Ok, let's try something weird..."
   ]
  },
  {
   "cell_type": "code",
   "execution_count": null,
   "id": "afbdf299",
   "metadata": {},
   "outputs": [],
   "source": [
    "x + char"
   ]
  },
  {
   "cell_type": "code",
   "execution_count": null,
   "id": "ed1e8a42",
   "metadata": {},
   "outputs": [],
   "source": [
    "str(x) + char"
   ]
  },
  {
   "cell_type": "markdown",
   "id": "78ed473a",
   "metadata": {},
   "source": [
    "Why does the first one not work, but the second one does?\n",
    "\n",
    "### What does all of this mean?!? And why does it matter?\n",
    "\n",
    "Python is two things:\n",
    "* __Dynamically typed__: The language determines the data type of a variable at runtime, not at compile time (this differs from languages like C and Fortran). It can interpret some operations (like `int` + `float` = `float`) but will throw errors with others that cannot be interpreted (like `int` + `char`). \n",
    "* __Strongly typed__: The language *does* have a strict set of rules regarding type compatibility during certain operations (e.g., our `for` loop required integers as the counting variables). Some important functions in Python (`for` loops for one) restricts the variable data types that can be used as inputs. \n",
    "\n",
    "### Printing Variables and Calculations to the Screen\n",
    "\n",
    "We will be performing many, many mathematical operations on variables that are integers and floats throughout this class. However, there are many times when we want to report what the value of a variable is to the screen or user. We do this when we're debugging code – trying to find an error, to report progress through a long workflow – to reassure yourself or the user that progress is being made, or just to report a value to a screen when, for example, we're reporting output from a sensor. Fortunately, Python has a built-in function `print()` that is very flexible and that suffices for many uses.\n",
    "\n",
    "For example, we can print the result of a mathematical operation without casting to a character string type. "
   ]
  },
  {
   "cell_type": "code",
   "execution_count": null,
   "id": "316e1140",
   "metadata": {},
   "outputs": [],
   "source": [
    "print(x+y)"
   ]
  },
  {
   "cell_type": "markdown",
   "id": "423881e6",
   "metadata": {},
   "source": [
    "We can also add useful text strings and cast the value of a mathematical operation to a string to create output that is more human readable. "
   ]
  },
  {
   "cell_type": "code",
   "execution_count": null,
   "id": "aa25a1f9",
   "metadata": {},
   "outputs": [],
   "source": [
    "print('x + y = ' + str(x+y))"
   ]
  },
  {
   "cell_type": "markdown",
   "id": "6cc68bf7",
   "metadata": {},
   "source": [
    "This even works when performing legal operations on different data types"
   ]
  },
  {
   "cell_type": "code",
   "execution_count": null,
   "id": "a5a38d7b",
   "metadata": {},
   "outputs": [],
   "source": [
    "print(x+z)"
   ]
  },
  {
   "cell_type": "code",
   "execution_count": null,
   "id": "dd8339c9",
   "metadata": {},
   "outputs": [],
   "source": [
    "print('x + z = ' + str(x + z))"
   ]
  },
  {
   "cell_type": "markdown",
   "id": "28d34094",
   "metadata": {},
   "source": [
    "And, of course, we can print character strings..."
   ]
  },
  {
   "cell_type": "code",
   "execution_count": null,
   "id": "d396ba3a",
   "metadata": {},
   "outputs": [],
   "source": [
    "print(char)"
   ]
  },
  {
   "cell_type": "markdown",
   "id": "f3b684d0",
   "metadata": {},
   "source": [
    "And concatenate those strings with other strings. The ability to concatenate strings like this is not limited to only the `print()` function and will be very useful in plotting and other operations"
   ]
  },
  {
   "cell_type": "code",
   "execution_count": null,
   "id": "768a67a5",
   "metadata": {},
   "outputs": [],
   "source": [
    "print(char+' is a meme character in the Italian brainrot genre')"
   ]
  },
  {
   "cell_type": "markdown",
   "id": "4d93d91e",
   "metadata": {},
   "source": [
    "### F-Strings\n",
    "\n",
    "It may not seem very scientific computing oriented, but handling strings is actually an incredibly important skill to have. In fact, it's so important your first problem set will involve string handling that is a very realistic scenario. \n",
    "\n",
    "A relatively new addition to Python is the use of the so-called f-string. You denote an f-string by preceding the single quotes by the letter 'f', like this:\n",
    "\n",
    "`f'this is an f-string'`\n",
    "\n",
    "F-strings do provide us with some shortcuts to help format output when we print it to the screen.  "
   ]
  },
  {
   "cell_type": "code",
   "execution_count": null,
   "id": "837a2049",
   "metadata": {},
   "outputs": [],
   "source": [
    "print(f'x={x}, y={y}, sum={x+y}')"
   ]
  },
  {
   "cell_type": "code",
   "execution_count": null,
   "id": "bebb62f4",
   "metadata": {},
   "outputs": [],
   "source": [
    "print(f'{x=}, {y=}, {x+y=}')"
   ]
  },
  {
   "cell_type": "markdown",
   "id": "4edd8578",
   "metadata": {},
   "source": [
    "However, that's not their superpower. What makes f-strings unique is the ability to **format** the way that numbers are displayed when we print them. \n",
    "\n",
    "For example, we can control the number of decimal places:"
   ]
  },
  {
   "cell_type": "code",
   "execution_count": null,
   "id": "af292fb2",
   "metadata": {},
   "outputs": [],
   "source": [
    "width = 10\n",
    "air_temp = 21.31\n",
    "\n",
    "print(f'{air_temp:.{width}f}')"
   ]
  },
  {
   "cell_type": "markdown",
   "id": "e457113e",
   "metadata": {},
   "source": [
    "We can add commas to large numbers:"
   ]
  },
  {
   "cell_type": "code",
   "execution_count": null,
   "id": "98a038ac",
   "metadata": {},
   "outputs": [],
   "source": [
    "salary = 421540599\n",
    "\n",
    "print(f'Salary is... ${salary:,}')"
   ]
  },
  {
   "cell_type": "markdown",
   "id": "8744641f",
   "metadata": {},
   "source": [
    "We can display numbers as percentages without converting:"
   ]
  },
  {
   "cell_type": "code",
   "execution_count": null,
   "id": "5caac438",
   "metadata": {},
   "outputs": [],
   "source": [
    "probability = 0.5565\n",
    "\n",
    "print(f'probability = {probability:.2%}')"
   ]
  },
  {
   "cell_type": "markdown",
   "id": "4cafe0e6",
   "metadata": {},
   "source": [
    "And, we can create more complicated, formatted text reports to print using three single quotes to start and end our f-string:"
   ]
  },
  {
   "cell_type": "code",
   "execution_count": null,
   "id": "46b3e112",
   "metadata": {},
   "outputs": [],
   "source": [
    "name = 'Stu'\n",
    "age = 46\n",
    "nickname = 'Disco'\n",
    "\n",
    "info = f'''\n",
    "Name: {name}\n",
    "Age: {age}\n",
    "Nickname: {nickname}\n",
    "'''\n",
    "\n",
    "print(info)"
   ]
  },
  {
   "cell_type": "markdown",
   "id": "92b3181a",
   "metadata": {},
   "source": [
    "### Practical Use Cases\n",
    "\n",
    "What are some practical uses of f-strings? There are two realistic use cases below that I'll share with you. Both very realistic. \n",
    "\n",
    "__Example 1__: I have written a code that computes evapotranspiration using the Penman-Monteith equation. One function (more on this later) in this code takes the air temperature (in °C) and the relative humidity (in %) as input and returns the vapor pressure deficit (VPD). My code keeps returning unrealistic numbers (evapotranspiration values of 3 **meters** per day) and I suspect that there might be an issue with the way that VPD is calculated. To debug my code, I would like to print out the values of air temperature and relative humidity that the function is receiving, and the value of VPD it is returning as output. I can basically identify three potential outcomes of this debugging test:\n",
    "1. The values computed are realistic then the problem lies somewhere else in the code,\n",
    "2. Air temperature and/or relative humidity are not realistic and so the function is somehow not getting the right input, \n",
    "3. The air temperature and relative humidity are realistic but the VPD is not and so there is an error in my computation.\n",
    "\n",
    "The cell below is example code of what this debugging test might look like. For now we'll assume values of air temperature and relative humidity, which excludes outcome 2 above."
   ]
  },
  {
   "cell_type": "code",
   "execution_count": 3,
   "id": "348e9d58",
   "metadata": {},
   "outputs": [
    {
     "name": "stdout",
     "output_type": "stream",
     "text": [
      "\n",
      "VPD calculation debug:\n",
      "airT = 22.3 °C\n",
      "RH = 27.33 %\n",
      "VPD = 1.957 kPa\n",
      "\n"
     ]
    }
   ],
   "source": [
    "import numpy as np # Don't worry about what this is for now\n",
    "\n",
    "# Assume these are the values passed to my code \n",
    "airT = 22.3 # Air temperature in °C\n",
    "RH = 27.33  # Relative humidity in %\n",
    "\n",
    "# Don't worry about these equations\n",
    "esat = 0.6108*np.exp((17.27*airT)/(airT + 237.3)) # Saturation vapor pressure in kPa\n",
    "ea = (RH/100.0)*esat # Actual vapor pressure in kPA\n",
    "\n",
    "VPD = esat - ea # Vapor pressure deficit in kPa\n",
    "\n",
    "# Create output string:\n",
    "vpd_info = f'''\n",
    "VPD calculation debug:\n",
    "airT = {airT} °C\n",
    "RH = {RH} %\n",
    "VPD = {VPD:.{3}f} kPa\n",
    "'''\n",
    "\n",
    "print(vpd_info)\n"
   ]
  },
  {
   "cell_type": "markdown",
   "id": "158e72ff",
   "metadata": {},
   "source": [
    "#### Dealing with Many File Names\n",
    "\n",
    "__Example 2__: I need to get gridded precipitation data for the Upper Boise River Basin for the years 2020-2025. The originators of the data are at Oregon State and provide their data freely via an online web service. Precipitation data are available daily, but are lumped into monthly files. Each file contains the entire contiguous US (CONUS). As such, I want to download only those files that I need and process them on my computer. I know the file names have the following format:\n",
    "\n",
    "`precip-YYYY-MM.nc`\n",
    "\n",
    "Rather than pointing and clicking to download 60 files, I want to use the linux `wget` command to download the data files. As such, I need to write some code to generate the file names (note that the month is a double digit, so I'll need to pad months 1-9 with a leading zero) and create my `wget` command to automate downloading the data. "
   ]
  },
  {
   "cell_type": "code",
   "execution_count": null,
   "id": "bc7f7f21",
   "metadata": {},
   "outputs": [],
   "source": [
    "file_base = 'precip'\n",
    "file_ext = '.nc'\n",
    "\n",
    "months = np.arange(12)+1\n",
    "years = np.linspace(2020, 2025, num=(2025-2020+1), dtype=int, endpoint=True)\n",
    "\n",
    "for yr in years:\n",
    "    for mo in months:\n",
    "        file_name = f'{file_base}-{yr}-{mo:02d}{file_ext}'\n",
    "        print(file_name)\n"
   ]
  },
  {
   "cell_type": "markdown",
   "id": "797058fc",
   "metadata": {},
   "source": [
    "#### Challenge: Updating Progress\n",
    "\n",
    "Once I have downloaded all of the data files I need, I need to do my data processing. That will involve a sequence of steps:\n",
    "\n",
    "1. Subsetting the data spatially to identify only the Upper Boise River Basin\n",
    "2. Collecting the monthly data into annuals\n",
    "3. Getting mean annual, seasonal, and monthly precipitation totals\n",
    "4. Getting extreme low and extreme high precipitation\n",
    "5. Correlating precipitation to topography and land cover\n",
    "\n",
    "I will do steps 1-4 in a single script. However, given the size of the files and the complexity of the work, it will take a significant amount of processing time. In order to reassure that the script is running and not \"hung\" because of memory resources, some error in my code, etc. I want to print and report on the progress of the code. \n",
    "\n",
    "Can you write a block of code below that reports on each file name that is being processed and the percent of months that have been processed? You effectively have the first part of the code from the cell above. You may need to introduce a \"counting\" variable to report on the latter. __Suggestion:__ Talk with your table mates about your strategy before you begin coding. \n"
   ]
  },
  {
   "cell_type": "code",
   "execution_count": 4,
   "id": "899afc1a",
   "metadata": {},
   "outputs": [
    {
     "name": "stdout",
     "output_type": "stream",
     "text": [
      "I have processed 1.39%. Last file: precip-2020-01.nc.\n",
      "I have processed 2.78%. Last file: precip-2020-02.nc.\n",
      "I have processed 4.17%. Last file: precip-2020-03.nc.\n",
      "I have processed 5.56%. Last file: precip-2020-04.nc.\n",
      "I have processed 6.94%. Last file: precip-2020-05.nc.\n",
      "I have processed 8.33%. Last file: precip-2020-06.nc.\n",
      "I have processed 9.72%. Last file: precip-2020-07.nc.\n",
      "I have processed 11.11%. Last file: precip-2020-08.nc.\n",
      "I have processed 12.50%. Last file: precip-2020-09.nc.\n",
      "I have processed 13.89%. Last file: precip-2020-10.nc.\n",
      "I have processed 15.28%. Last file: precip-2020-11.nc.\n",
      "I have processed 16.67%. Last file: precip-2020-12.nc.\n",
      "I have processed 18.06%. Last file: precip-2021-01.nc.\n",
      "I have processed 19.44%. Last file: precip-2021-02.nc.\n",
      "I have processed 20.83%. Last file: precip-2021-03.nc.\n",
      "I have processed 22.22%. Last file: precip-2021-04.nc.\n",
      "I have processed 23.61%. Last file: precip-2021-05.nc.\n",
      "I have processed 25.00%. Last file: precip-2021-06.nc.\n",
      "I have processed 26.39%. Last file: precip-2021-07.nc.\n",
      "I have processed 27.78%. Last file: precip-2021-08.nc.\n",
      "I have processed 29.17%. Last file: precip-2021-09.nc.\n",
      "I have processed 30.56%. Last file: precip-2021-10.nc.\n",
      "I have processed 31.94%. Last file: precip-2021-11.nc.\n",
      "I have processed 33.33%. Last file: precip-2021-12.nc.\n",
      "I have processed 34.72%. Last file: precip-2022-01.nc.\n",
      "I have processed 36.11%. Last file: precip-2022-02.nc.\n",
      "I have processed 37.50%. Last file: precip-2022-03.nc.\n",
      "I have processed 38.89%. Last file: precip-2022-04.nc.\n",
      "I have processed 40.28%. Last file: precip-2022-05.nc.\n",
      "I have processed 41.67%. Last file: precip-2022-06.nc.\n",
      "I have processed 43.06%. Last file: precip-2022-07.nc.\n",
      "I have processed 44.44%. Last file: precip-2022-08.nc.\n",
      "I have processed 45.83%. Last file: precip-2022-09.nc.\n",
      "I have processed 47.22%. Last file: precip-2022-10.nc.\n",
      "I have processed 48.61%. Last file: precip-2022-11.nc.\n",
      "I have processed 50.00%. Last file: precip-2022-12.nc.\n",
      "I have processed 51.39%. Last file: precip-2023-01.nc.\n",
      "I have processed 52.78%. Last file: precip-2023-02.nc.\n",
      "I have processed 54.17%. Last file: precip-2023-03.nc.\n",
      "I have processed 55.56%. Last file: precip-2023-04.nc.\n",
      "I have processed 56.94%. Last file: precip-2023-05.nc.\n",
      "I have processed 58.33%. Last file: precip-2023-06.nc.\n",
      "I have processed 59.72%. Last file: precip-2023-07.nc.\n",
      "I have processed 61.11%. Last file: precip-2023-08.nc.\n",
      "I have processed 62.50%. Last file: precip-2023-09.nc.\n",
      "I have processed 63.89%. Last file: precip-2023-10.nc.\n",
      "I have processed 65.28%. Last file: precip-2023-11.nc.\n",
      "I have processed 66.67%. Last file: precip-2023-12.nc.\n",
      "I have processed 68.06%. Last file: precip-2024-01.nc.\n",
      "I have processed 69.44%. Last file: precip-2024-02.nc.\n",
      "I have processed 70.83%. Last file: precip-2024-03.nc.\n",
      "I have processed 72.22%. Last file: precip-2024-04.nc.\n",
      "I have processed 73.61%. Last file: precip-2024-05.nc.\n",
      "I have processed 75.00%. Last file: precip-2024-06.nc.\n",
      "I have processed 76.39%. Last file: precip-2024-07.nc.\n",
      "I have processed 77.78%. Last file: precip-2024-08.nc.\n",
      "I have processed 79.17%. Last file: precip-2024-09.nc.\n",
      "I have processed 80.56%. Last file: precip-2024-10.nc.\n",
      "I have processed 81.94%. Last file: precip-2024-11.nc.\n",
      "I have processed 83.33%. Last file: precip-2024-12.nc.\n",
      "I have processed 84.72%. Last file: precip-2025-01.nc.\n",
      "I have processed 86.11%. Last file: precip-2025-02.nc.\n",
      "I have processed 87.50%. Last file: precip-2025-03.nc.\n",
      "I have processed 88.89%. Last file: precip-2025-04.nc.\n",
      "I have processed 90.28%. Last file: precip-2025-05.nc.\n",
      "I have processed 91.67%. Last file: precip-2025-06.nc.\n",
      "I have processed 93.06%. Last file: precip-2025-07.nc.\n",
      "I have processed 94.44%. Last file: precip-2025-08.nc.\n",
      "I have processed 95.83%. Last file: precip-2025-09.nc.\n",
      "I have processed 97.22%. Last file: precip-2025-10.nc.\n",
      "I have processed 98.61%. Last file: precip-2025-11.nc.\n",
      "I have processed 100.00%. Last file: precip-2025-12.nc.\n"
     ]
    }
   ],
   "source": [
    "file_base = 'precip'\n",
    "file_ext = '.nc'\n",
    "\n",
    "months = np.arange(12)+1\n",
    "years = np.linspace(2020, 2025, num=(2025-2020+1), dtype=int, endpoint=True)\n",
    "\n",
    "file_count = 0\n",
    "\n",
    "for yr in years:\n",
    "    for mo in months:\n",
    "        file_name = f'{file_base}-{yr}-{mo:02d}{file_ext}'\n",
    "        \n",
    "        #process the data\n",
    "        #process_my_data(file_name)\n",
    "        file_count += 1\n",
    "        print(f'I have processed {file_count/72:.2%}. Last file: {file_name}.')"
   ]
  }
 ],
 "metadata": {
  "kernelspec": {
   "display_name": "Python 3",
   "language": "python",
   "name": "python3"
  },
  "language_info": {
   "codemirror_mode": {
    "name": "ipython",
    "version": 3
   },
   "file_extension": ".py",
   "mimetype": "text/x-python",
   "name": "python",
   "nbconvert_exporter": "python",
   "pygments_lexer": "ipython3",
   "version": "3.12.1"
  }
 },
 "nbformat": 4,
 "nbformat_minor": 5
}
