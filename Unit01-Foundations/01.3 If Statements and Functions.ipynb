{
 "cells": [
  {
   "cell_type": "markdown",
   "id": "6aaaff24",
   "metadata": {},
   "source": [
    "# Loops, Logical Branches, and Functions\n",
    "\n",
    "## Loops\n",
    "\n",
    "Loops are a common tool that we use to perform a repetitive task (e.g., operations, calculations, etc.). They are ubiquitous in all computing languages and elegantly demonstrate *why* we use computers... to, for instance, perform hundreds of thousands of repetitive tasks. There are fundamentally two kinds of loops: the `for` loop and the `while` loop. \n",
    "\n",
    "It is important to understand how these two loops differ and why you might use each. A `for` loop is used when you know exactly how many times you need to perform an operation. A `while` loop is used when you don't know how many times you need to perform an operation, but you do know when to stop. The syntax of these commands illustrates how they differ.\n",
    "\n",
    "### For Loop Example\n",
    "\n",
    "A kind of canonical case for the use of for loops (at least historically) is in computing moments. The first moment of a sequence of numbers ($x$) is the mean, and is computed as:\n",
    "\n",
    "$$\n",
    "\\mu = \\frac{1}{N}\\sum_{i=1}^{N}x_i,\n",
    "$$\n",
    "\n",
    "where $\\mu$ is the mean and $N$ is the number of values of $x$ that we have. Qualitatively, the above equation says \"to compute the mean, compute the sum of all of the numbers in $x$ and divide by the number of $x$s, $N$. We would operationalize this as follows: "
   ]
  },
  {
   "cell_type": "code",
   "execution_count": 2,
   "id": "4925d7cd",
   "metadata": {},
   "outputs": [
    {
     "name": "stdout",
     "output_type": "stream",
     "text": [
      "5.169518296117019\n"
     ]
    }
   ],
   "source": [
    "import numpy as np # Imports the library numpy: more on this later\n",
    "\n",
    "x = np.random.normal(5.0, 1.0, 100) # Creates an array of 100 random numbers with a mean of 5, and a standard deviation of 1\n",
    "N = x.size\n",
    "\n",
    "# Now compute the mean \n",
    "Sx = 0.0\n",
    "\n",
    "for i in np.arange(N):\n",
    "    Sx = Sx + x[i]\n",
    "    \n",
    "mu_x = Sx/N\n",
    "print(mu_x)\n"
   ]
  },
  {
   "cell_type": "markdown",
   "id": "2b692183",
   "metadata": {},
   "source": [
    "We expect to get something close to 5.0. Do you? As an important side note: **Do not** compute means and variances this way in Python. There are _far_ better ways.\n",
    "\n",
    "### While Loop Example\n",
    "\n",
    "Let's say that the $x$s above are actually individual step sizes for a random walk process – an important kind of mathematical process. Because of the random size of the steps, a random walk was sometimes historically known as a \"drunkard's walk.\" For a random walk process, we might want to know how many steps it takes to exceed a particular distance. As such, we know when the loop should terminate, but we don't know how many steps it takes. Let's say we're interested in how many steps it takes to excede 100 ft. This is what that would look like:"
   ]
  },
  {
   "cell_type": "code",
   "execution_count": 3,
   "id": "852d4e6d",
   "metadata": {},
   "outputs": [
    {
     "name": "stdout",
     "output_type": "stream",
     "text": [
      "It took 20 steps to walk 100.0 ft!\n"
     ]
    }
   ],
   "source": [
    "dist = 100.0\n",
    "\n",
    "Sx = 0.0\n",
    "steps = 0\n",
    "\n",
    "while Sx < dist:\n",
    "    Sx = Sx + x[steps]\n",
    "    steps = steps + 1\n",
    "\n",
    "print(f'It took {steps} steps to walk {dist} ft!')"
   ]
  },
  {
   "cell_type": "markdown",
   "id": "0bb47bc3",
   "metadata": {},
   "source": [
    "A very common application of `while` loops in modern code is when we're solving for the roots of a function or trying to numerically minimize or get something close to zero. This happens in modeling when we are iteratively solving an equation and we know we have found the solution when our numerical scheme is no longer making big changes to our guess. But, we'll practically never get to 0, so we just want our answer to be \"close enough.\" This might look like the following:\n",
    "\n",
    "```\n",
    "tol = 1e-6 # Tolerance for what constitutes \"close enough\"\n",
    "x_start # Our first guess\n",
    "x_update # Our updated value\n",
    "while (abs(x_update - x_start) > tol):\n",
    "    x_start = x_update\n",
    "    Do mathy stuff and update x_update\n",
    "```"
   ]
  },
  {
   "cell_type": "markdown",
   "id": "1307d40b",
   "metadata": {},
   "source": [
    "## Logical Branches\n",
    "\n",
    "Logical branches, or conditional statements, are also very common in Python and all other programming languages. We use branches to direct our code to different behavior based on a specific condition being met (e.g., something is equal to some number, or greater than or equal to, etc.). The most common statement that we will use is the `if` statement. In Python the syntax is pretty straight forward:\n",
    "\n",
    "```\n",
    "if (true or false condition):\n",
    "    # Do this if the above condition is true\n",
    "else:\n",
    "    # Do this if the above condition is false\n",
    "```\n",
    "\n",
    "### Challenge \n",
    "In the code below, apply the logic of the `for` loop above and extend it with an `if` statement to count the number of negative numbers in a sequence of 100 standard normal random numbers (that is, random numbers with a mean of 0.0 and a standard deviation of 1.0)."
   ]
  },
  {
   "cell_type": "code",
   "execution_count": 14,
   "id": "0ef5190f",
   "metadata": {},
   "outputs": [
    {
     "name": "stdout",
     "output_type": "stream",
     "text": [
      "58\n",
      " There are 58 negative numbers!\n"
     ]
    }
   ],
   "source": [
    "x_random = np.random.standard_normal((100,))\n",
    "N_random = x_random.size\n",
    "\n",
    "counter = 0\n",
    "\n",
    "\n",
    "for x in x_random:\n",
    "    if x < 0:\n",
    "        counter = counter + 1\n",
    "    \n",
    "print(counter)\n",
    "\n",
    "#vs\n",
    "\n",
    "counter = 0\n",
    "\n",
    "for i in range(N_random):\n",
    "    if(x_random[i]<0.0):\n",
    "        counter += 1\n",
    "print(f' There are {counter} negative numbers!')"
   ]
  },
  {
   "cell_type": "markdown",
   "id": "ef7fdc4e",
   "metadata": {},
   "source": [
    "Note that we can also use an `elif` statement to further branch the behavior of our code. For example,"
   ]
  },
  {
   "cell_type": "code",
   "execution_count": 23,
   "id": "6069f01c",
   "metadata": {},
   "outputs": [
    {
     "name": "stdout",
     "output_type": "stream",
     "text": [
      "Quintile = 4\n",
      "Quintile = 5\n",
      "Quintile = 3\n",
      "Quintile = 1\n",
      "Quintile = 5\n",
      "Quintile = 1\n",
      "Quintile = 1\n",
      "Quintile = 1\n",
      "Quintile = 2\n",
      "Quintile = 5\n",
      "Quintile = 2\n",
      "Quintile = 3\n",
      "Quintile = 1\n",
      "Quintile = 5\n",
      "Quintile = 4\n",
      "Quintile = 3\n",
      "Quintile = 2\n",
      "Quintile = 5\n",
      "Quintile = 1\n",
      "Quintile = 3\n",
      "Quintile = 5\n",
      "Quintile = 5\n",
      "Quintile = 1\n",
      "Quintile = 2\n",
      "Quintile = 2\n",
      "Quintile = 4\n",
      "Quintile = 4\n",
      "Quintile = 5\n",
      "Quintile = 2\n",
      "Quintile = 4\n",
      "Quintile = 1\n",
      "Quintile = 2\n",
      "Quintile = 1\n",
      "Quintile = 2\n",
      "Quintile = 1\n",
      "Quintile = 2\n"
     ]
    }
   ],
   "source": [
    "x_random2 = np.random.random((100,))\n",
    "N_random2 = x_random2.size\n",
    "\n",
    "for i in np.arange(N_random2):\n",
    "    if(x_random[i] > 0.0 and x_random2[i] <= 0.2):\n",
    "        print('Quintile = 1')\n",
    "    elif(x_random[i] > 0.2 and x_random2[i] <= 0.4):\n",
    "        print('Quintile = 2')\n",
    "    elif(x_random[i] > 0.4 and x_random2[i] <= 0.6):\n",
    "        print('Quintile = 3')\n",
    "    elif(x_random[i] > 0.6 and x_random2[i] <= 0.8):\n",
    "        print('Quintile = 4')\n",
    "    elif(x_random[i] > 0.8 and x_random2[i] <= 1.0):\n",
    "        print('Quintile = 5')\n",
    "        \n"
   ]
  },
  {
   "cell_type": "markdown",
   "id": "0960fbbb",
   "metadata": {},
   "source": [
    "### Challenge\n",
    "\n",
    "Add classifications for the 3rd-5th quintile above using similar `elif` commands.\n",
    "\n",
    "There is another way to branch the behavior, and that is using `match` and `case` statements. We won't use these, but this is what they look like. "
   ]
  },
  {
   "cell_type": "code",
   "execution_count": 15,
   "id": "d298a40e",
   "metadata": {},
   "outputs": [
    {
     "name": "stdout",
     "output_type": "stream",
     "text": [
      "Use 2D transient\n"
     ]
    }
   ],
   "source": [
    "GroundwaterMethodOption = 3\n",
    "\n",
    "match GroundwaterMethodOption:\n",
    "    case 1:\n",
    "        print('Use 1D steady state')\n",
    "        # Other code that calls 1D steady state solver\n",
    "    case 2:\n",
    "        print('Use 1D transient solver')\n",
    "        # Other code that calles 1D transient solver\n",
    "    case 3:\n",
    "        print('Use 2D transient')\n",
    "        # You get the idea\n",
    "    case 4:\n",
    "        print('Use 3D Richards equation')\n",
    "        # What are use cases for this?\n"
   ]
  },
  {
   "cell_type": "markdown",
   "id": "58426e98",
   "metadata": {},
   "source": [
    "## Functions\n",
    "\n",
    "Functions are exceptionally useful and powerful tools in which we can use to keep our code clean when we need to perform operations or calculations many, many times in a code. A function is simply something that takes well-defined input and _returns_ well-defined output. An example of a very common way that I have (at least in the past) used functions is below. \n",
    "\n",
    "\n",
    "In the function below we make use of `%` the so-called \"modulo\" operator. The modulo operator returns the whole number remainder of a division operation and the syntax is `(numerator % denominator)` (read as \"numerator modulo denominator\"). So if we computed `(2 % 2)`, it would return 0 because 2 divided by 2 is 1, with no remainder. Similarly, if we passed `(7 % 4)`, it would return 3. "
   ]
  },
  {
   "cell_type": "code",
   "execution_count": 19,
   "id": "5961d134",
   "metadata": {},
   "outputs": [
    {
     "ename": "SyntaxError",
     "evalue": "'return' outside function (1163847911.py, line 4)",
     "output_type": "error",
     "traceback": [
      "  \u001b[36mCell\u001b[39m\u001b[36m \u001b[39m\u001b[32mIn[19]\u001b[39m\u001b[32m, line 4\u001b[39m\n\u001b[31m    \u001b[39m\u001b[31mreturn True\u001b[39m\n    ^\n\u001b[31mSyntaxError\u001b[39m\u001b[31m:\u001b[39m 'return' outside function\n"
     ]
    }
   ],
   "source": [
    "7 % 4\n",
    "InputWholeNumber = 500\n",
    "if(InputWholeNumber % 4 == 0):\n",
    "      return True  \n",
    "        \n",
    "        \n",
    "   #     if(InputWholeNumber % 100 == 0):\n",
    "    #        if(InputWholeNumber % 500 == 0):\n",
    "     #           return True\n",
    "    #        else:\n",
    "      #          return False\n",
    "      #  else:\n",
    "       #     return False\n",
    "#else:\n",
    "    #return False"
   ]
  },
  {
   "cell_type": "markdown",
   "id": "38589824",
   "metadata": {},
   "source": [
    "### Challenge\n",
    "\n",
    "The modulo operator can be helpful in some real world contexts, one of which is illustrated below within a function. The function takes as input a whole number, and asks a sequence of questions about that input number. Those questions include \"is it evenly divisible by 4? By 100? And by 500?\" Based on the responses of those questions, posed as a sequence of nested `if` statements, it returns either `True` or `False`. Review this function, and then discuss the questions below with your table mates."
   ]
  },
  {
   "cell_type": "code",
   "execution_count": null,
   "id": "7c9c5e98",
   "metadata": {},
   "outputs": [],
   "source": [
    "def WhatDoItMath(InputWholeNumber): #?\n",
    "\n",
    "    if(InputWholeNumber % 4 == 0):\n",
    "        if(InputWholeNumber % 100 == 0):\n",
    "            if(InputWholeNumber % 500 == 0):\n",
    "                return True\n",
    "            else:\n",
    "                return False\n",
    "        else:\n",
    "            return True\n",
    "    else:\n",
    "        return False\n",
    "    \n",
    "#IsLeapYear\n",
    "#(year)"
   ]
  },
  {
   "cell_type": "code",
   "execution_count": 24,
   "id": "7be144f3",
   "metadata": {},
   "outputs": [
    {
     "data": {
      "text/plain": [
       "True"
      ]
     },
     "execution_count": 24,
     "metadata": {},
     "output_type": "execute_result"
    }
   ],
   "source": [
    "WhatDoItMath(2004)"
   ]
  },
  {
   "cell_type": "markdown",
   "id": "0bf3be61",
   "metadata": {},
   "source": [
    "Questions:\n",
    "\n",
    "* What does this function do? How would you rename it?\n",
    "* What is a better variable name for `InputWholeNumber`?\n",
    "\n",
    "\n",
    "### Challenge\n",
    "Can you define a function (don't worry about the actual equations) that takes as input an air temperature in °C and uses the Clausius-Clapeyron equation to return a saturation vapor pressure in kPa? "
   ]
  },
  {
   "cell_type": "code",
   "execution_count": null,
   "id": "8990f462",
   "metadata": {},
   "outputs": [],
   "source": [
    "# Write your function definition and the return statement below\n",
    "def Clausius_Clapeyron(AirTemp_C):\n",
    "    vp_kpa = AirTemp_C*mathstuff\n",
    "    if AirTemp_C >0:\n",
    "        return(vp_kpa)\n",
    "    \n",
    "Clausius_Clapeyron(99)"
   ]
  }
 ],
 "metadata": {
  "kernelspec": {
   "display_name": "Python 3",
   "language": "python",
   "name": "python3"
  },
  "language_info": {
   "codemirror_mode": {
    "name": "ipython",
    "version": 3
   },
   "file_extension": ".py",
   "mimetype": "text/x-python",
   "name": "python",
   "nbconvert_exporter": "python",
   "pygments_lexer": "ipython3",
   "version": "3.12.1"
  }
 },
 "nbformat": 4,
 "nbformat_minor": 5
}
